{
 "cells": [
  {
   "cell_type": "code",
   "execution_count": 1,
   "metadata": {},
   "outputs": [],
   "source": [
    "import numpy as np\n",
    "import matplotlib.pyplot as plt\n",
    "import seaborn as sns"
   ]
  },
  {
   "cell_type": "code",
   "execution_count": 2,
   "metadata": {},
   "outputs": [],
   "source": [
    "import utils as ut"
   ]
  },
  {
   "cell_type": "code",
   "execution_count": 3,
   "metadata": {},
   "outputs": [],
   "source": [
    "meta_file = \"/data5/deepro/starrseq/data/meta_data/metadata.json\"\n",
    "peak_dir = \"/data5/deepro/starrseq/main_library/3_peak_call/data\"\n",
    "bam_dir = \"/data5/deepro/starrseq/main_library/1_dedup_align_filter/data/filtered\"\n",
    "input_name = \"input\"\n",
    "lib_name = \"control\""
   ]
  },
  {
   "cell_type": "code",
   "execution_count": 4,
   "metadata": {},
   "outputs": [],
   "source": [
    "in_args = ut.create_args(meta_file, input_name)\n",
    "lib_args = ut.create_args(meta_file, lib_name)"
   ]
  },
  {
   "cell_type": "code",
   "execution_count": 5,
   "metadata": {},
   "outputs": [],
   "source": [
    "peak_file = ut.get_peak_file(peak_dir, lib_args.library_short)"
   ]
  },
  {
   "cell_type": "code",
   "execution_count": 7,
   "metadata": {},
   "outputs": [],
   "source": [
    "in_bam_files = ut.get_rep_bam_file(\n",
    "    bam_dir,\n",
    "    in_args.library_short,\n",
    "    in_args.library_prefix,\n",
    "    in_args.library_reps\n",
    ")\n",
    "\n",
    "lib_bam_files = ut.get_rep_bam_file(\n",
    "    bam_dir,\n",
    "    lib_args.library_short,\n",
    "    lib_args.library_prefix,\n",
    "    lib_args.library_reps\n",
    ")"
   ]
  },
  {
   "cell_type": "code",
   "execution_count": 8,
   "metadata": {},
   "outputs": [],
   "source": [
    "in_cov_df = ut.get_replicate_wise_cov_df(peak_file, in_bam_files)\n",
    "lib_cov_df = ut.get_replicate_wise_cov_df(peak_file, lib_bam_files)"
   ]
  },
  {
   "cell_type": "code",
   "execution_count": 9,
   "metadata": {},
   "outputs": [],
   "source": [
    "fc_cov_df = lib_cov_df/in_cov_df"
   ]
  },
  {
   "cell_type": "code",
   "execution_count": 17,
   "metadata": {},
   "outputs": [],
   "source": [
    "fc_cov_df.columns = [f\"Replicate {i}\" for i in range(1, fc_cov_df.shape[1] + 1)]"
   ]
  },
  {
   "cell_type": "code",
   "execution_count": 19,
   "metadata": {},
   "outputs": [
    {
     "data": {
      "image/png": "[encoded data removed]",
      "text/plain": [
       "<Figure size 1152x432 with 2 Axes>"
      ]
     },
     "metadata": {
      "needs_background": "light"
     },
     "output_type": "display_data"
    }
   ],
   "source": [
    "plt.figure(figsize=(16, 6))\n",
    "\n",
    "# define the mask to set the values in the upper triangle to True\n",
    "mask = np.triu(np.ones_like(fc_cov_df.corr(), dtype=bool))\n",
    "\n",
    "heatmap = sns.heatmap(fc_cov_df.corr(), mask=mask, vmin=0.5, vmax=1, annot=True, cmap='BrBG')\n",
    "\n",
    "heatmap.set_title('Enhancer summit fold change correlation', fontdict={'fontsize':18}, pad=16);"
   ]
  },
  {
   "cell_type": "code",
   "execution_count": null,
   "metadata": {},
   "outputs": [],
   "source": []
  }
 ],
 "metadata": {
  "kernelspec": {
   "display_name": "Python 3.9.7 ('starrseq': conda)",
   "language": "python",
   "name": "python3"
  },
  "language_info": {
   "codemirror_mode": {
    "name": "ipython",
    "version": 3
   },
   "file_extension": ".py",
   "mimetype": "text/x-python",
   "name": "python",
   "nbconvert_exporter": "python",
   "pygments_lexer": "ipython3",
   "version": "3.9.7"
  },
  "orig_nbformat": 4,
  "vscode": {
   "interpreter": {
    "hash": "06856c2527dea3cf472b3c4994ec564df76496982852535c5a9520cd26601212"
   }
  }
 },
 "nbformat": 4,
 "nbformat_minor": 2
}
